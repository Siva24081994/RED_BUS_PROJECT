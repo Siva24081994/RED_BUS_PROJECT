import pandas as pd
import mysql.connector
from datetime import datetime



# List of CSV file paths["bus_det_final_csvfile_2_kaac.csv"]
csv_files = ["ahemedabad.csv","Andhra_bus_details.csv","bangalore_bus_details.csv","chennai_bus_details.csv","Himachal_bus_details.csv","Kerala_bus_details.csv","pune_bus_routes.csv","rajasthan_bus_details.csv","telungana_bus_details.csv","uttarpradesh_bus_details.csv"]

# Read each CSV file into a DataFrame and concatenate them
df_list = [pd.read_csv(file) for file in csv_files]
combined_df = pd.concat(df_list, ignore_index=True)

# Clean data: remove 'INR ' from Price and extract seat numbers from strings
combined_df['Price'] = combined_df['Price'].str.replace('INR ', '')
combined_df['Seat_Availability'] = combined_df['Seat_Availability'].str.extract(r'(\d+)')

# Convert Price to decimal and Seat_Availability to integer
combined_df['Price'] = pd.to_numeric(combined_df['Price'], errors='coerce').fillna(0).astype(float)
combined_df['Seat_Availability'] = combined_df['Seat_Availability'].fillna(0).astype(int)
combined_df = combined_df.dropna(subset=['Bus_Name'])
combined_df = combined_df.dropna(subset=['Bus_Type'])



# Add auto-increment id column
combined_df.insert(0, 'id', combined_df.index + 1)

# MySQL connection
mydb = mysql.connector.connect(
    host="localhost",
    user="root",
    password="",
    database="RED_BUS"
)

mycursor = mydb.cursor()






# Create table query
create_table_query = """CREATE TABLE RED_BUS_ROUTES(
    id INT AUTO_INCREMENT PRIMARY KEY,
    route_name TEXT NOT NULL,
    route_link TEXT,
    busname TEXT NOT NULL,
    bustype TEXT NOT NULL,
    departing_time TIME NOT NULL,
    duration TEXT NOT NULL,
    reaching_time TIME NOT NULL,
    star_rating FLOAT,
    price DECIMAL(10, 2) NOT NULL,
    seats_available INT NOT NULL)
    """

mycursor.execute(create_table_query)

# Insert query (ensure that the column names match exactly with the DataFrame)
insert_query = """
INSERT INTO RED_BUS_ROUTES (id, route_name, route_link, busname, bustype, departing_time, duration, reaching_time, star_rating, price, seats_available)
VALUES (%s, %s, %s, %s, %s, %s, %s, %s, %s, %s, %s)
"""

# Insert each row from the DataFrame
for i, row in combined_df.iterrows():
    data = (
        row['id'],
        row['Route_Name'],
        row['Route_Link'],
        row['Bus_Name'],
        row['Bus_Type'],
        row['Departing_Time'],
        row['Duration'],
        row['Reaching_Time'],
        row['Star_Rating'],
        row['Price'],
        row['Seat_Availability']
    )
    mycursor.execute(insert_query, data)

# Commit the changes
mydb.commit()

print("Data inserted successfully.")
