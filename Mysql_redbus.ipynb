{
 "cells": [
  {
   "cell_type": "code",
   "execution_count": 27,
   "id": "e376f3e4-a79b-4676-ac8d-f9efc4568182",
   "metadata": {},
   "outputs": [
    {
     "name": "stdout",
     "output_type": "stream",
     "text": [
      "Data inserted successfully.\n"
     ]
    }
   ],
   "source": [
    "import pandas as pd\n",
    "import mysql.connector\n",
    "\n",
    "# List of CSV file paths[\"bus_det_final_csvfile_2_kaac.csv\"]\n",
    "csv_files = [\"ahemedabad.csv\",\"Andhra_bus_details.csv\",\"bangalore_bus_details.csv\",\"chennai_bus_details.csv\",\"Himachal_bus_details.csv\",\"Kerala_bus_details.csv\",\"pune_bus_routes.csv\",\"rajasthan_bus_details.csv\",\"telungana_bus_details.csv\",\"uttarpradesh_bus_details.csv\"]\n",
    "\n",
    "# Read each CSV file into a DataFrame and concatenate them\n",
    "df_list = [pd.read_csv(file) for file in csv_files]\n",
    "combined_df = pd.concat(df_list, ignore_index=True)\n",
    "\n",
    "# Clean data: remove 'INR ' from Price and extract seat numbers from strings\n",
    "combined_df['Price'] = combined_df['Price'].str.replace('INR ', '')\n",
    "combined_df['Seat_Availability'] = combined_df['Seat_Availability'].str.extract(r'(\\d+)')\n",
    "\n",
    "# Convert Price to decimal and Seat_Availability to integer\n",
    "combined_df['Price'] = pd.to_numeric(combined_df['Price'], errors='coerce').fillna(0).astype(float)\n",
    "combined_df['Seat_Availability'] = combined_df['Seat_Availability'].fillna(0).astype(int)\n",
    "combined_df = combined_df.dropna(subset=['Bus_Name'])\n",
    "combined_df = combined_df.dropna(subset=['Bus_Type'])\n",
    "\n",
    "\n",
    "# Convert departing time and reaching time into time format, replacing NaT with None\n",
    "# Convert departing time and reaching time into time format, replacing invalid times with None\n",
    "#combined_df['Departing_Time'] = pd.to_datetime(combined_df['Departing_Time'], format='%H:%M:%S', errors='coerce').dt.time\n",
    "#combined_df['Reaching_Time'] = pd.to_datetime(combined_df['Reaching_Time'], format='%H:%M:%S', errors='coerce').dt.time\n",
    "\n",
    "\n",
    "# Add auto-increment id column\n",
    "combined_df.insert(0, 'id', combined_df.index + 1)\n",
    "\n",
    "# MySQL connection\n",
    "mydb = mysql.connector.connect(\n",
    "    host=\"localhost\",\n",
    "    user=\"root\",\n",
    "    password=\"\",\n",
    "    database=\"RED_BUS\"\n",
    ")\n",
    "\n",
    "mycursor = mydb.cursor()\n",
    "\n",
    "\n",
    "\n",
    "\n",
    "\n",
    "\n",
    "# Create table query\n",
    "create_table_query = \"\"\"CREATE TABLE RED_BUS_ROUTES(\n",
    "    id INT AUTO_INCREMENT PRIMARY KEY,\n",
    "    route_name TEXT NOT NULL,\n",
    "    route_link TEXT,\n",
    "    busname TEXT NOT NULL,\n",
    "    bustype TEXT NOT NULL,\n",
    "    departing_time TIME NOT NULL,\n",
    "    duration TEXT NOT NULL,\n",
    "    reaching_time TIME NOT NULL,\n",
    "    star_rating FLOAT,\n",
    "    price DECIMAL(10, 2) NOT NULL,\n",
    "    seats_available INT NOT NULL)\n",
    "    \"\"\"\n",
    "\n",
    "mycursor.execute(create_table_query)\n",
    "\n",
    "# Insert query (ensure that the column names match exactly with the DataFrame)\n",
    "insert_query = \"\"\"\n",
    "INSERT INTO RED_BUS_ROUTES (id, route_name, route_link, busname, bustype, departing_time, duration, reaching_time, star_rating, price, seats_available)\n",
    "VALUES (%s, %s, %s, %s, %s, %s, %s, %s, %s, %s, %s)\n",
    "\"\"\"\n",
    "\n",
    "# Insert each row from the DataFrame, ensuring None is passed for missing times\n",
    "for i, row in combined_df.iterrows():\n",
    "    mycursor.execute(insert_query, tuple(row))\n",
    "\n",
    "# Commit the changes\n",
    "mydb.commit()\n",
    "\n",
    "print(\"Data inserted successfully.\")\n"
   ]
  },
  {
   "cell_type": "code",
   "execution_count": 13,
   "id": "c5ae0d73-e132-47f7-bc3b-9d6ffb885b1e",
   "metadata": {},
   "outputs": [
    {
     "name": "stdout",
     "output_type": "stream",
     "text": [
      "  Departing_Time Reaching_Time\n",
      "0          11:30         16:00\n",
      "1          12:00         16:45\n",
      "2          12:30         17:00\n",
      "3          12:30         17:45\n",
      "4          13:00         18:00\n",
      "5          13:15         17:45\n",
      "6          14:00         19:00\n",
      "7          14:45         19:45\n",
      "8          15:00         19:15\n",
      "9          15:15         20:15\n"
     ]
    }
   ],
   "source": [
    "print(combined_df[['Departing_Time', 'Reaching_Time']].head(10))\n"
   ]
  }
 ],
 "metadata": {
  "kernelspec": {
   "display_name": "Python 3 (ipykernel)",
   "language": "python",
   "name": "python3"
  },
  "language_info": {
   "codemirror_mode": {
    "name": "ipython",
    "version": 3
   },
   "file_extension": ".py",
   "mimetype": "text/x-python",
   "name": "python",
   "nbconvert_exporter": "python",
   "pygments_lexer": "ipython3",
   "version": "3.12.4"
  }
 },
 "nbformat": 4,
 "nbformat_minor": 5
}
